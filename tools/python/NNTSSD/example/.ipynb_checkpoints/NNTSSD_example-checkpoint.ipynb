{
 "cells": [
  {
   "cell_type": "markdown",
   "metadata": {},
   "source": [
    "# Example for running NNTSSD\n",
    "(Tools for analysing the Neural Network Training Set Size Dependence)"
   ]
  },
  {
   "cell_type": "markdown",
   "metadata": {},
   "source": [
    "NNTSSD performs one or more of four steps:\n",
    "<br>1.) It creates training datasets from a given original dataset using the program nnp-select.\n",
    "<br>2.) It trains the neural network with existing datasets using the program nnp-train.\n",
    "<br>3.) It prepares analyse data from the learning curves.\n",
    "<br>4.) It plots the energy and force RMSE versus training set size.\n",
    "<br><br>In the following, we will go through each of these steps."
   ]
  },
  {
   "cell_type": "markdown",
   "metadata": {},
   "source": [
    "## 1.) Create Training Datatsets"
   ]
  },
  {
   "cell_type": "code",
   "execution_count": null,
   "metadata": {},
   "outputs": [],
   "source": []
  },
  {
   "cell_type": "code",
   "execution_count": null,
   "metadata": {},
   "outputs": [],
   "source": []
  }
 ],
 "metadata": {
  "kernelspec": {
   "display_name": "Python 3",
   "language": "python",
   "name": "python3"
  },
  "language_info": {
   "codemirror_mode": {
    "name": "ipython",
    "version": 3
   },
   "file_extension": ".py",
   "mimetype": "text/x-python",
   "name": "python",
   "nbconvert_exporter": "python",
   "pygments_lexer": "ipython3",
   "version": "3.6.7"
  }
 },
 "nbformat": 4,
 "nbformat_minor": 2
}
