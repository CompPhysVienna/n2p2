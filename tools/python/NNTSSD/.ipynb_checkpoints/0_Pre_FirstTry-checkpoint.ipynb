{
 "cells": [
  {
   "cell_type": "code",
   "execution_count": 32,
   "metadata": {},
   "outputs": [],
   "source": [
    "# -*- coding: utf-8 -*-\n",
    "\"\"\"\n",
    "08.04.2019, First Attempt.\n",
    "\"\"\"\n",
    "\n",
    "import pynnp\n",
    "import os\n",
    "import numpy as np"
   ]
  },
  {
   "cell_type": "code",
   "execution_count": 6,
   "metadata": {},
   "outputs": [
    {
     "data": {
      "text/plain": [
       "0"
      ]
     },
     "execution_count": 6,
     "metadata": {},
     "output_type": "execute_result"
    }
   ],
   "source": []
  },
  {
   "cell_type": "code",
   "execution_count": 36,
   "metadata": {},
   "outputs": [
    {
     "name": "stdout",
     "output_type": "stream",
     "text": [
      "number of samples per training set size =  2\n",
      "number of different training set sizes =  3\n",
      "0.05\n",
      "0.1\n",
      "0.15\n"
     ]
    }
   ],
   "source": [
    "def create_training_datasets(set_size_ratios,n_sets_per_size):\n",
    "    n_set_size_ratios = np.size(set_size_ratios)\n",
    "    print \"number of samples per training set size = \", n_sets_per_size\n",
    "    print \"number of different training set sizes = \", n_set_size_ratios\n",
    "    old_name = \"current_folder\"\n",
    "    for ratios_counter in range(n_set_size_ratios):\n",
    "        current_ratio = set_size_ratios[ratios_counter]\n",
    "        for sets_per_size_counter in range(n_sets_per_size):\n",
    "            os.system(\"mkdir current_folder\")\n",
    "            new_name = \"ratio\"+str(current_ratio)+\"_set\"+str(sets_per_size_counter)\n",
    "            os.rename(old_name,new_name)\n",
    "        print current_ratio\n",
    "\n",
    "create_training_datasets([0.05,0.10,0.15],2)"
   ]
  }
 ],
 "metadata": {
  "kernelspec": {
   "display_name": "Python 2",
   "language": "python",
   "name": "python2"
  },
  "language_info": {
   "codemirror_mode": {
    "name": "ipython",
    "version": 2
   },
   "file_extension": ".py",
   "mimetype": "text/x-python",
   "name": "python",
   "nbconvert_exporter": "python",
   "pygments_lexer": "ipython2",
   "version": "2.7.16"
  }
 },
 "nbformat": 4,
 "nbformat_minor": 2
}
