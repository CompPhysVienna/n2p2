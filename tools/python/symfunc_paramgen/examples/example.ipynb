{
 "cells": [
  {
   "cell_type": "markdown",
   "metadata": {},
   "source": [
    "# Usage of Symmetry Function Parameter Generator"
   ]
  },
  {
   "cell_type": "markdown",
   "metadata": {},
   "source": [
    "## Importing the tool"
   ]
  },
  {
   "cell_type": "code",
   "execution_count": null,
   "metadata": {},
   "outputs": [],
   "source": [
    "import sys\n",
    "sys.path.append('../src')"
   ]
  },
  {
   "cell_type": "code",
   "execution_count": null,
   "metadata": {},
   "outputs": [],
   "source": [
    "from sfparamgen import SymFuncParamGenerator"
   ]
  },
  {
   "cell_type": "markdown",
   "metadata": {},
   "source": [
    "## Basic usage overview"
   ]
  },
  {
   "cell_type": "markdown",
   "metadata": {},
   "source": [
    "Using this tool typically consists of the following steps:\n",
    "\n",
    "1. Creating an object of the SymFuncParamGenerator class.\n",
    "2. Filling this object with the necessary settings and symmetry function parameters, using the class methods provided.\n",
    "3. Writing the symmetry function parameters, in a format usable by n2p2.\n",
    "\n",
    "Steps 2. and 3. will most likely be repeated several times, with different settings, to create different symmetry function parameter sets."
   ]
  },
  {
   "cell_type": "markdown",
   "metadata": {},
   "source": [
    "### 1. Creating an object of the symmetry function parameter generator class"
   ]
  },
  {
   "cell_type": "markdown",
   "metadata": {},
   "source": [
    "We first need to instantiate the SymFuncParamGenerator class.\n",
    "\n",
    "The elements in the system, and the cutoff radius are required as arguments to the constructor. These are considered system parameters, rather than symmetry function settings, and as such are not intended for later change. To generate symmetry function parameters for different elements and/or for different cutoff radiuses, a new instance of the class should be created."
   ]
  },
  {
   "cell_type": "code",
   "execution_count": null,
   "metadata": {},
   "outputs": [],
   "source": [
    "myGenerator = SymFuncParamGenerator(elements=['S', 'Cu'], r_cutoff = 6.)"
   ]
  },
  {
   "cell_type": "markdown",
   "metadata": {},
   "source": [
    "### 2. Supplying the object with settings and generating the radial symmetry function parameters"
   ]
  },
  {
   "cell_type": "markdown",
   "metadata": {},
   "source": [
    "So far, we have a 'bare' symmetry function parameter generator object. We need to pass it the desired settings and tell it to generate actual symmetry function parameters. The different settings/method calls necessary for this are independent of each other and can be made in any order."
   ]
  },
  {
   "cell_type": "markdown",
   "metadata": {},
   "source": [
    "The symmetry function type needs to be specified. In this example, we will be setting it to 'radial':"
   ]
  },
  {
   "cell_type": "code",
   "execution_count": null,
   "metadata": {},
   "outputs": [],
   "source": [
    "myGenerator.symfunc_type = 'radial'"
   ]
  },
  {
   "cell_type": "markdown",
   "metadata": {},
   "source": [
    "Importantly, we also need to generate a set of values for what we will call the 'radial parameters', r_shift and eta. We call them 'radial parameters' because they govern the sampling of radial space, but they are in fact required by any type of symmetry function, not only those of type 'radial'.\n",
    "\n",
    "The symmetry function parameter generator class provides a method for generating these parameters based on algorithms proposed in the literature. This method is in fact the central functionality of this tool.\n",
    "\n",
    "The method takes a few parameters. For explanation of these parameters and literature references, we refer to the documentation."
   ]
  },
  {
   "cell_type": "code",
   "execution_count": null,
   "metadata": {},
   "outputs": [],
   "source": [
    "myGenerator.generate_radial_params(rule='imbalzano2018', mode='shift', nb_param_pairs=5)"
   ]
  },
  {
   "cell_type": "markdown",
   "metadata": {},
   "source": [
    "With this, everything is ready. We can, to check for correctness, or for future reference, display all current settings."
   ]
  },
  {
   "cell_type": "code",
   "execution_count": null,
   "metadata": {},
   "outputs": [],
   "source": [
    "myGenerator.write_settings_overview()"
   ]
  },
  {
   "cell_type": "markdown",
   "metadata": {},
   "source": [
    "### 3. Writing the symmetry function parameters"
   ]
  },
  {
   "cell_type": "markdown",
   "metadata": {},
   "source": [
    "The object now contains a set of symmetry function parameters. We can now print these, in the format that the parameter file 'input.nn' used by n2p2 requires.\n",
    "\n",
    "(By default, they are written to stdout. See further down for how to write them to a file.)"
   ]
  },
  {
   "cell_type": "code",
   "execution_count": null,
   "metadata": {},
   "outputs": [],
   "source": [
    "myGenerator.write_parameter_strings()"
   ]
  },
  {
   "cell_type": "markdown",
   "metadata": {},
   "source": [
    "### Repeating 2. and 3. with different settings"
   ]
  },
  {
   "cell_type": "markdown",
   "metadata": {},
   "source": [
    "Typically, you will want to create multiple symmetry function parameter sets, using different settings and symmetry function types. To do so, simply repeat steps 2. and 3. from above, with different settings.<br>\n",
    "NB: Previously stored parameters are overwritten when setting new ones!"
   ]
  },
  {
   "cell_type": "markdown",
   "metadata": {},
   "source": [
    "For this next example, let us now use one of the angular symmetry function types:"
   ]
  },
  {
   "cell_type": "code",
   "execution_count": null,
   "metadata": {},
   "outputs": [],
   "source": [
    "myGenerator.symfunc_type = 'angular_narrow'"
   ]
  },
  {
   "cell_type": "markdown",
   "metadata": {},
   "source": [
    "Since we are now using an angular symmetry function type, we need to specify the additional parameter zetas, which was not needed in the example with a radial type from above:"
   ]
  },
  {
   "cell_type": "code",
   "execution_count": null,
   "metadata": {},
   "outputs": [],
   "source": [
    "myGenerator.zetas = [1.0, 6.0]"
   ]
  },
  {
   "cell_type": "markdown",
   "metadata": {},
   "source": [
    "For the sake of example, let us also generate new radial parameters, with different settings (although we could keep those from before):"
   ]
  },
  {
   "cell_type": "code",
   "execution_count": null,
   "metadata": {},
   "outputs": [],
   "source": [
    "myGenerator.generate_radial_params(rule='gastegger2018', mode='center', nb_param_pairs=3, r_lower=1.5)"
   ]
  },
  {
   "cell_type": "markdown",
   "metadata": {},
   "source": [
    "We can now again print an overview of all settings used, as well as the final ready-for-use parameter strings:"
   ]
  },
  {
   "cell_type": "code",
   "execution_count": null,
   "metadata": {},
   "outputs": [],
   "source": [
    "myGenerator.write_settings_overview()\n",
    "myGenerator.write_parameter_strings()"
   ]
  },
  {
   "cell_type": "markdown",
   "metadata": {},
   "source": [
    "## Examples on usage of additional features"
   ]
  },
  {
   "cell_type": "markdown",
   "metadata": {},
   "source": [
    "### Writing to a file"
   ]
  },
  {
   "cell_type": "markdown",
   "metadata": {},
   "source": [
    "In the above examples, the settings overview and the parameter strings were written to stdout, which is the default behavior. You can, however, also write them to a file by passing a file object as an optional argument."
   ]
  },
  {
   "cell_type": "code",
   "execution_count": null,
   "metadata": {},
   "outputs": [],
   "source": [
    "with open('example-outfile.txt', 'w') as f:\n",
    "    myGenerator.write_settings_overview(fileobj=f)\n",
    "    myGenerator.write_parameter_strings(fileobj=f)"
   ]
  },
  {
   "cell_type": "markdown",
   "metadata": {},
   "source": [
    "### Retrieving the element combinations on their own within Python"
   ]
  },
  {
   "cell_type": "markdown",
   "metadata": {},
   "source": [
    "Describing the environment of an atom in a multi-element system requires distinct symmetry functions corresponding to all possible central-atom-neighbor combinations.\n",
    "\n",
    "When outputting the symmetry function parameters the normal way, using the class' writing method, these element combinations are already taken care of. However, if needed, you can also access the combinations on their own via the dedicated member variable, as shown below.\n",
    "\n",
    "The element combinations are dependent on the symmetry function type, and as such are (re-)calculated and stored each time the symmetry function type is set."
   ]
  },
  {
   "cell_type": "code",
   "execution_count": null,
   "metadata": {},
   "outputs": [],
   "source": [
    "myGenerator.symfunc_type = 'radial'\n",
    "print('radial:')\n",
    "print(myGenerator.element_combinations)\n",
    "\n",
    "myGenerator.symfunc_type = 'angular_wide'\n",
    "print('angular_wide:')\n",
    "print(myGenerator.element_combinations)\n",
    "\n",
    "myGenerator.symfunc_type = 'angular_narrow'\n",
    "print('angular_narrow:')\n",
    "print(myGenerator.element_combinations)\n",
    "\n",
    "myGenerator.symfunc_type = 'weighted_angular'\n",
    "print('weighted_angular:')\n",
    "print(myGenerator.element_combinations)\n",
    "\n",
    "myGenerator.symfunc_type = 'weighted_radial'\n",
    "print('weighted_radial:')\n",
    "print(myGenerator.element_combinations)"
   ]
  },
  {
   "cell_type": "markdown",
   "metadata": {},
   "source": [
    "### Retrieving the radial parameters on their own within Python"
   ]
  },
  {
   "cell_type": "markdown",
   "metadata": {},
   "source": [
    "\n",
    "Having generated sets of values for the 'radial parameters' r_shift and eta, you can retrieve them from within Python by accessing their member variables like so:"
   ]
  },
  {
   "cell_type": "code",
   "execution_count": null,
   "metadata": {},
   "outputs": [],
   "source": [
    "myGenerator.generate_radial_params(rule='imbalzano2018', mode='shift', nb_param_pairs=5)\n",
    "print(myGenerator.r_shift_grid)\n",
    "print(myGenerator.eta_grid)"
   ]
  },
  {
   "cell_type": "markdown",
   "metadata": {},
   "source": [
    "### Setting custom radial parameters"
   ]
  },
  {
   "cell_type": "markdown",
   "metadata": {},
   "source": [
    "Instead of using the method for generating the 'radial parameters' r_shift and eta according to the schemes proposed in the literature, there is also the possibility to set custom values for these parameters.\n",
    "\n",
    "This is actually kind of bypassing the class' core functionality. But this way, you can still make use of the class' storage and writing functionalities, while using radial parameters of your own."
   ]
  },
  {
   "cell_type": "code",
   "execution_count": null,
   "metadata": {},
   "outputs": [],
   "source": [
    "myGenerator.set_custom_radial_params(r_shift_values=[1.1, 2.2, 3.3, 4.4], eta_values=[4.1, 3.2, 2.3, 1.4])\n",
    "\n",
    "myGenerator.write_settings_overview()\n",
    "myGenerator.write_parameter_strings()"
   ]
  },
  {
   "cell_type": "code",
   "execution_count": null,
   "metadata": {},
   "outputs": [],
   "source": []
  }
 ],
 "metadata": {
  "kernelspec": {
   "display_name": "Python 3",
   "language": "python",
   "name": "python3"
  },
  "language_info": {
   "codemirror_mode": {
    "name": "ipython",
    "version": 3
   },
   "file_extension": ".py",
   "mimetype": "text/x-python",
   "name": "python",
   "nbconvert_exporter": "python",
   "pygments_lexer": "ipython3",
   "version": "3.7.1"
  }
 },
 "nbformat": 4,
 "nbformat_minor": 2
}
