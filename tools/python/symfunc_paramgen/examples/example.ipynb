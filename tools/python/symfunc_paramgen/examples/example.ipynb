{
 "cells": [
  {
   "cell_type": "markdown",
   "metadata": {},
   "source": [
    "# Example usage of Symmetry Function Parameter Generator"
   ]
  },
  {
   "cell_type": "markdown",
   "metadata": {},
   "source": [
    "## Importing the tool"
   ]
  },
  {
   "cell_type": "code",
   "execution_count": null,
   "metadata": {},
   "outputs": [],
   "source": [
    "import sys\n",
    "sys.path.append('../src')\n",
    "from sfparamgen import SymFuncParamGenerator"
   ]
  },
  {
   "cell_type": "markdown",
   "metadata": {},
   "source": [
    "## Basic usage overview"
   ]
  },
  {
   "cell_type": "markdown",
   "metadata": {},
   "source": [
    "Using this tool typically consists of the following steps:\n",
    "\n",
    "1. Creating an object of the symmetry function parameter generator class.\n",
    "2. Filling this object with the necessary settings and symmetry function parameters, using the class methods provided.\n",
    "3. Printing the symmetry function parameters, in the format that n2p2 requires.\n",
    "\n",
    "Steps 2. and 3. will most likely be repeated several times, with different settings, to create different symmetry function parameter sets."
   ]
  },
  {
   "cell_type": "markdown",
   "metadata": {},
   "source": [
    "### 1. Creating an object of the symmetry function parameter generator class"
   ]
  },
  {
   "cell_type": "markdown",
   "metadata": {},
   "source": [
    "To start generating symmetry function parameter sets, we first need to instantiate the symmetry function parameter generator class.\n",
    "\n",
    "The elements in the system, and the cutoff radius are required as arguments to the constructor. These are considered parameters describing the system, rather than symmetry function settings, and as such are not intended for later change. To generate symmetry function parameters for different elements and/or for different cutoff radiuses, a new instance of the class should be created."
   ]
  },
  {
   "cell_type": "code",
   "execution_count": null,
   "metadata": {},
   "outputs": [],
   "source": [
    "myGenerator = SymFuncParamGenerator(elements=['S', 'Cu'], r_cutoff = 6.)"
   ]
  },
  {
   "cell_type": "markdown",
   "metadata": {},
   "source": [
    "### 2. Supplying the object with settings and generating the radial symmetry function parameters"
   ]
  },
  {
   "cell_type": "markdown",
   "metadata": {},
   "source": [
    "So far, we have a 'bare' symmetry function parameter generator object. We need to pass it the desired settings and tell it to generate actual symmetry function parameters. The different settings/method calls necessary to do this, are independent of each other and can be made in any order."
   ]
  },
  {
   "cell_type": "markdown",
   "metadata": {},
   "source": [
    "The symmetry function type needs to be specified. In this example, we will be setting the symmetry function type to 'radial':"
   ]
  },
  {
   "cell_type": "code",
   "execution_count": null,
   "metadata": {},
   "outputs": [],
   "source": [
    "myGenerator.symfunc_type = 'radial'"
   ]
  },
  {
   "cell_type": "markdown",
   "metadata": {},
   "source": []
  },
  {
   "cell_type": "code",
   "execution_count": null,
   "metadata": {},
   "outputs": [],
   "source": [
    "myGenerator.generate_radial_params(rule='imbalzano2018', mode='shift', nb_param_pairs=5)"
   ]
  },
  {
   "cell_type": "markdown",
   "metadata": {},
   "source": [
    "With this, everything is ready. We can, to check for correctness, or for future reference, display all current settings."
   ]
  },
  {
   "cell_type": "code",
   "execution_count": null,
   "metadata": {},
   "outputs": [],
   "source": [
    "myGenerator.write_settings_overview()"
   ]
  },
  {
   "cell_type": "markdown",
   "metadata": {},
   "source": [
    "### 3. Printing the symmetry function parameters"
   ]
  },
  {
   "cell_type": "markdown",
   "metadata": {},
   "source": [
    "The object now contains a set of symmetry function parameters. We can now print these, in the format that n2p2 requires.\n",
    "\n",
    "By default, they are written to stdout, and you can proceed with them to your liking (pipe to a parameter file for n2p2, copy, ...)."
   ]
  },
  {
   "cell_type": "code",
   "execution_count": null,
   "metadata": {},
   "outputs": [],
   "source": [
    "myGenerator.write_parameter_strings()"
   ]
  }
 ],
 "metadata": {
  "kernelspec": {
   "display_name": "Python 3",
   "language": "python",
   "name": "python3"
  },
  "language_info": {
   "codemirror_mode": {
    "name": "ipython",
    "version": 3
   },
   "file_extension": ".py",
   "mimetype": "text/x-python",
   "name": "python",
   "nbconvert_exporter": "python",
   "pygments_lexer": "ipython3",
   "version": "3.7.3"
  }
 },
 "nbformat": 4,
 "nbformat_minor": 2
}
